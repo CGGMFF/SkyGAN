{
 "cells": [
  {
   "cell_type": "code",
   "execution_count": 16,
   "metadata": {},
   "outputs": [],
   "source": [
    "import os"
   ]
  },
  {
   "cell_type": "code",
   "execution_count": 17,
   "metadata": {},
   "outputs": [
    {
     "data": {
      "text/plain": [
       "{'Baseline': [('k00115t', None),\n",
       "  ('k00126t', 0),\n",
       "  ('k00131t', None),\n",
       "  ('k00134t', None)],\n",
       " '+Aug': [('k00122t', None),\n",
       "  ('k00127t', 2203),\n",
       "  ('k00130t', None),\n",
       "  ('k00136t', None)],\n",
       " '+Clear': [('k00123t', None),\n",
       "  ('k00128t', 2704),\n",
       "  ('k00129t', None),\n",
       "  ('k00135t', None)],\n",
       " 'Ours': [('k00103t', None),\n",
       "  ('k00124t', None),\n",
       "  ('k00132t', None),\n",
       "  ('k00133t', None)]}"
      ]
     },
     "execution_count": 17,
     "metadata": {},
     "output_type": "execute_result"
    }
   ],
   "source": [
    "runs = {\n",
    "    'Baseline': [\n",
    "        ('k00115t', None),\n",
    "        ('k00126t', 0), # diverged almost at the beginning\n",
    "        ('k00131t', None),\n",
    "        ('k00134t', None),\n",
    "        ],\n",
    "    '+Aug': [\n",
    "        ('k00122t', None),\n",
    "        ('k00127t', 2203), # started diverging later\n",
    "        ('k00130t', None),\n",
    "        ('k00136t', None),\n",
    "        ],\n",
    "    '+Clear': [\n",
    "        ('k00123t', None),\n",
    "        ('k00128t', 2704), # started diverging later\n",
    "        ('k00129t', None),\n",
    "        ('k00135t', None),\n",
    "        ],\n",
    "    'Ours': [\n",
    "        ('k00103t', None),\n",
    "        ('k00124t', None),\n",
    "        ('k00132t', None),\n",
    "        ('k00133t', None),\n",
    "        ]\n",
    "}\n",
    "runs"
   ]
  },
  {
   "cell_type": "code",
   "execution_count": 18,
   "metadata": {},
   "outputs": [],
   "source": [
    "rundir = '/mnt/proj2/open-26-1/out/skygan256/'\n",
    "rundirs = os.listdir(rundir)"
   ]
  },
  {
   "cell_type": "code",
   "execution_count": 19,
   "metadata": {},
   "outputs": [
    {
     "data": {
      "text/plain": [
       "'/mnt/proj2/open-26-1/out/skygan256/00103-stylegan3-t-auto_processed_20230405_1727-gpus8-batch32-gamma2'"
      ]
     },
     "execution_count": 19,
     "metadata": {},
     "output_type": "execute_result"
    }
   ],
   "source": [
    "def rundir_path_from_short(short_run_name):\n",
    "    assert short_run_name[0] == 'k' # ran on Karoline\n",
    "    assert short_run_name[-1] == 't' # translation-invariant\n",
    "    rundir_matches = list(filter(lambda rd: rd.startswith(short_run_name[1:-1]), rundirs))\n",
    "    assert len(rundir_matches) == 1\n",
    "    return os.path.join(rundir, rundir_matches[0])\n",
    "rundir_path_from_short('k00103t')"
   ]
  },
  {
   "cell_type": "code",
   "execution_count": 20,
   "metadata": {},
   "outputs": [
    {
     "data": {
      "text/plain": [
       "'k00103t'"
      ]
     },
     "execution_count": 20,
     "metadata": {},
     "output_type": "execute_result"
    }
   ],
   "source": [
    "import re\n",
    "def short_from_rundir_path(rundir_path):\n",
    "    #print(rundir_path)\n",
    "    m = re.match('.*/(\\d{5})-stylegan.*', rundir_path)\n",
    "    assert m is not None\n",
    "    return 'k'+m[1]+'t'\n",
    "short_from_rundir_path(rundir_path_from_short('k00103t'))"
   ]
  },
  {
   "cell_type": "code",
   "execution_count": 21,
   "metadata": {},
   "outputs": [
    {
     "data": {
      "text/plain": [
       "['network-snapshot-000000.pkl',\n",
       " 'network-snapshot-000020.pkl',\n",
       " 'network-snapshot-000040.pkl']"
      ]
     },
     "execution_count": 21,
     "metadata": {},
     "output_type": "execute_result"
    }
   ],
   "source": [
    "def get_snapshot_files(dirname, limit=None):\n",
    "    #print(f'get_snapshot_files({dirname}, {limit})')\n",
    "    return sorted(list(filter(\n",
    "        lambda f:\n",
    "            f.startswith('network-snapshot-') and\n",
    "            f.endswith('.pkl') and\n",
    "            (limit is None or int(f.replace('network-snapshot-', '').replace('.pkl', '')) <= limit),\n",
    "        os.listdir(dirname)\n",
    "        )))\n",
    "#get_snapshot_files(rundir_path_from_short('k00103t'))\n",
    "get_snapshot_files(rundir_path_from_short('k00103t'), 40)"
   ]
  },
  {
   "cell_type": "code",
   "execution_count": 22,
   "metadata": {},
   "outputs": [
    {
     "data": {
      "text/plain": [
       "8733"
      ]
     },
     "execution_count": 22,
     "metadata": {},
     "output_type": "execute_result"
    }
   ],
   "source": [
    "def kimgs_from_snapshot_file(f):\n",
    "    return int(f[-10:-4])\n",
    "kimgs_from_snapshot_file(get_snapshot_files(rundir_path_from_short('k00103t'))[-1])"
   ]
  },
  {
   "cell_type": "code",
   "execution_count": 23,
   "metadata": {},
   "outputs": [
    {
     "name": "stdout",
     "output_type": "stream",
     "text": [
      "Run Baseline\n",
      "\tk00115t: from 0 to 12059\n",
      "\tk00126t: from 12059 to 14823 (using 0 from this run; total up to 12059)\n",
      "\tk00131t: from 12059 to 24899\n",
      "\tk00134t: from 24899 to 30968\n",
      "Run +Aug\n",
      "\tk00122t: from 0 to 11818\n",
      "\tk00127t: from 11818 to 14342 (using 2203 from this run; total up to 14021)\n",
      "\tk00130t: from 14021 to 27001\n",
      "\tk00136t: from 27001 to 30506\n",
      "Run +Clear\n",
      "\tk00123t: from 0 to 10917\n",
      "\tk00128t: from 10917 to 13621 (using 2704 from this run; total up to 13621)\n",
      "\tk00129t: from 13621 to 25900\n",
      "\tk00135t: from 25900 to 30447\n",
      "Run Ours\n",
      "\tk00103t: from 0 to 8733\n",
      "\tk00124t: from 8733 to 20972\n",
      "\tk00132t: from 20972 to 26540\n",
      "\tk00133t: from 26540 to 30546\n"
     ]
    }
   ],
   "source": [
    "snapshot_lists = {}\n",
    "\n",
    "for runname, short_run_names_and_limits in runs.items():\n",
    "    print('Run', runname)\n",
    "    offset=0\n",
    "    numbered_snapshots = {}\n",
    "    for short_run_name, limit in short_run_names_and_limits:\n",
    "        snapshots = get_snapshot_files(rundir_path_from_short(short_run_name))\n",
    "        last_snapshot_kimgs = kimgs_from_snapshot_file(snapshots[-1])\n",
    "        snapshots_limited = get_snapshot_files(rundir_path_from_short(short_run_name), limit)\n",
    "        last_snapshot_kimgs_limited = kimgs_from_snapshot_file(snapshots_limited[-1])\n",
    "        print(f'\\t{short_run_name}: from {offset} to {offset + last_snapshot_kimgs}' + (f' (using {last_snapshot_kimgs_limited} from this run; total up to {offset + last_snapshot_kimgs_limited})' if limit is not None else ''))\n",
    "        for snapshot in snapshots_limited:\n",
    "            k = offset + kimgs_from_snapshot_file(snapshot)\n",
    "            v = os.path.join(rundir_path_from_short(short_run_name), snapshot)\n",
    "            if k in numbered_snapshots.keys():\n",
    "                assert v.endswith('network-snapshot-000000.pkl')\n",
    "            else:\n",
    "                numbered_snapshots[k] = v\n",
    "            #print(f'\\t\\t{snapshot}: {kimgs_from_snapshot_file(snapshot)}')\n",
    "        offset += last_snapshot_kimgs_limited\n",
    "    #print(numbered_snapshots)\n",
    "    snapshot_lists[runname] = numbered_snapshots"
   ]
  },
  {
   "cell_type": "code",
   "execution_count": 24,
   "metadata": {},
   "outputs": [],
   "source": [
    "import queue\n",
    "\n",
    "def shuffle_binary_search(lst): # first, last, middle, then \"recurse\" to (first, middle) and (middle, last)\n",
    "    assert type(lst) == list\n",
    "    def mid_iter2(a,b):\n",
    "        q=queue.Queue()\n",
    "        q.put((a+1,b))\n",
    "        yield a\n",
    "        yield b\n",
    "        while not q.empty():\n",
    "            a,b=q.get()\n",
    "            if a>=b:\n",
    "                continue\n",
    "            mid = a+(b-a)//2\n",
    "            yield mid\n",
    "            q.put((a,mid))\n",
    "            q.put((mid+1,b))\n",
    "\n",
    "    l=len(lst)-1\n",
    "    #print('indices', list(mid_iter2(0,l)))\n",
    "\n",
    "    for i in mid_iter2(0,l):\n",
    "        yield lst[i]\n",
    "\n",
    "#list(shuffle_binary_search([1,2,3,4,5])) # -> [1, 5, 3, 2, 4]"
   ]
  },
  {
   "cell_type": "code",
   "execution_count": 25,
   "metadata": {},
   "outputs": [],
   "source": [
    "# shuffled_snapshot_lists['Baseline'] == list of tuples (kimgs, path)\n",
    "shuffled_snapshot_lists = {runname: list(shuffle_binary_search([(kimgs,fname) for kimgs,fname in data.items()])) for runname, data in snapshot_lists.items()}"
   ]
  },
  {
   "attachments": {},
   "cell_type": "markdown",
   "metadata": {},
   "source": [
    "# Generate job scripts"
   ]
  },
  {
   "cell_type": "code",
   "execution_count": 26,
   "metadata": {},
   "outputs": [],
   "source": [
    "def get_command(runname, kimgs, pkl_file):\n",
    "    d = {\n",
    "        #name       use_encoder     azimuth_normalization\n",
    "        'Baseline': [False,         False],\n",
    "        'Clear':   [True,          False],\n",
    "        'Aug':     [False,         True],\n",
    "        'Ours':     [True,          True],\n",
    "    }\n",
    "    assert runname in d.keys()\n",
    "\n",
    "    options = d[runname]\n",
    "\n",
    "    return f'compute_one_fid {kimgs} {pkl_file} {options[0]} {options[1]}'"
   ]
  },
  {
   "cell_type": "code",
   "execution_count": 27,
   "metadata": {},
   "outputs": [],
   "source": [
    "def script_head(runname):\n",
    "    return f'''#!/bin/bash\n",
    "#PBS -N sFID_{runname}\n",
    "#PBS -q qgpu\n",
    "#PBS -l select=1,walltime=3:00:00\n",
    "#PBS -A OPEN-26-1\n",
    "\n",
    "#cd /home/martinmcgg/skygan-docker_1024\n",
    "cd /home/martinmcgg/skygan-docker_1024_aug\n",
    "\n",
    ". \"/mnt/proj2/open-26-1/miniconda3/etc/profile.d/conda.sh\"\n",
    "conda init bash\n",
    "conda activate stylegan3\n",
    "\n",
    "export PY=python3.9\n",
    "export CACHE_DIR=/scratch/project/open-26-1/martinmcgg/skygan-diskcache\n",
    "export OPENCV_IO_ENABLE_OPENEXR=1\n",
    "export CUDA_HOME='/usr/local/cuda'\n",
    "\n",
    "nvidia-smi\n",
    "set\n",
    "\n",
    "cd src/stylegan3/\n",
    "\n",
    "mkdir -p /mnt/proj2/open-26-1/out/skygan256_fid_{runname}\n",
    "\n",
    "compute_one_fid() (\n",
    "    KIMG=\"$1\"\n",
    "    PKL=\"$2\"\n",
    "    ENC=\"$3\"\n",
    "    AZI=\"$4\"\n",
    "    echo $PKL >> {'/home/martinmcgg/'+runname+'.log'}\n",
    "\n",
    "$PY train.py \\\\\n",
    "--cfg=stylegan3-t --gpus=1 \\\\\n",
    "--data /mnt/proj2/open-26-1/projects/SkyGAN/clouds_fisheye/auto_processed/auto_processed_20230405_1727.csv \\\\\n",
    "--resolution=256 --gamma=2 \\\\\n",
    "--batch=32 --batch-gpu=4 --tick=10 --snap=2 \\\\\n",
    "--outdir=/mnt/proj2/open-26-1/out/skygan256_fid_{runname} \\\\\n",
    "--metrics=fid50k_full \\\\\n",
    "--mirror=0 \\\\\n",
    "--aug-ada-xflip=0 \\\\\n",
    "--aug-ada-rotate90=0 \\\\\n",
    "--aug-ada-xint=0 \\\\\n",
    "--aug-ada-scale=0 \\\\\n",
    "--aug-ada-rotate=1 \\\\\n",
    "--aug-ada-aniso=0 \\\\\n",
    "--aug-ada-xfrac=0 \\\\\n",
    "--normalize-azimuth=$AZI \\\\\n",
    "--use-encoder=$ENC \\\\\n",
    "--resume=\"$PKL\"\n",
    ")\n",
    "\n",
    "'''\n",
    "\n",
    "for runname, shuffled_list in shuffled_snapshot_lists.items():\n",
    "    runname = runname.replace('+', '')\n",
    "    with open('/home/martinmcgg/'+runname+'.sh', 'w') as f_out:\n",
    "        f_out.write(script_head(runname))\n",
    "        for kimgs, pkl_file in shuffled_list:\n",
    "            f_out.write(get_command(runname, kimgs, pkl_file) + '\\n')\n",
    "    #print(shuffled_list)"
   ]
  },
  {
   "cell_type": "code",
   "execution_count": null,
   "metadata": {},
   "outputs": [],
   "source": []
  },
  {
   "attachments": {},
   "cell_type": "markdown",
   "metadata": {},
   "source": [
    "# Collect FID results"
   ]
  },
  {
   "cell_type": "code",
   "execution_count": 28,
   "metadata": {},
   "outputs": [
    {
     "data": {
      "text/plain": [
       "['k00115t',\n",
       " 'k00126t',\n",
       " 'k00131t',\n",
       " 'k00134t',\n",
       " 'k00122t',\n",
       " 'k00127t',\n",
       " 'k00130t',\n",
       " 'k00136t',\n",
       " 'k00123t',\n",
       " 'k00128t',\n",
       " 'k00129t',\n",
       " 'k00135t',\n",
       " 'k00103t',\n",
       " 'k00124t',\n",
       " 'k00132t',\n",
       " 'k00133t']"
      ]
     },
     "execution_count": 28,
     "metadata": {},
     "output_type": "execute_result"
    }
   ],
   "source": [
    "all_short_run_names = [runname for sublist in runs.values() for runname, limit in sublist]\n",
    "all_short_run_names"
   ]
  },
  {
   "cell_type": "code",
   "execution_count": 29,
   "metadata": {},
   "outputs": [
    {
     "name": "stdout",
     "output_type": "stream",
     "text": [
      "k00115t 73/603 (12 %)\n",
      "k00126t 0/0\n",
      "k00131t 40/641 (6 %)\n",
      "k00134t 29/303 (9 %)\n",
      "k00122t 102/591 (17 %)\n",
      "k00127t 15/110 (13 %)\n",
      "k00130t 35/648 (5 %)\n",
      "k00136t 30/175 (17 %)\n",
      "k00123t 83/546 (15 %)\n",
      "k00128t 15/135 (11 %)\n",
      "k00129t 46/613 (7 %)\n",
      "k00135t 29/227 (12 %)\n",
      "k00103t 47/437 (10 %)\n",
      "k00124t 38/611 (6 %)\n",
      "k00132t 25/278 (8 %)\n",
      "k00133t 44/200 (22 %)\n"
     ]
    }
   ],
   "source": [
    "results = {}\n",
    "fid_file_counter = {run_name:{'fids':0, 'pkls':0} for run_name in all_short_run_names}\n",
    "for runname, shuffled_list in shuffled_snapshot_lists.items():\n",
    "    runname = runname.replace('+', '')\n",
    "    kimgs_list = []\n",
    "    fid_list = []\n",
    "    pkl_file_list = []\n",
    "    for kimgs, pkl_file in shuffled_list:\n",
    "        short_run_name = short_from_rundir_path(pkl_file)\n",
    "        #print(short_run_name)\n",
    "        fid_file_counter[short_run_name]['pkls'] += 1\n",
    "        fid_fname = pkl_file+'.fid'\n",
    "        if os.path.exists(fid_fname):\n",
    "            with open(fid_fname, 'r') as f_in:\n",
    "                fid_list.append(float(f_in.read()))\n",
    "                fid_file_counter[short_run_name]['fids'] += 1\n",
    "            kimgs_list.append(kimgs)\n",
    "            pkl_file_list.append(pkl_file)\n",
    "\n",
    "    assert len(kimgs_list) == len(fid_list)\n",
    "    assert len(kimgs_list) > 0\n",
    "    with open('/home/martinmcgg/'+runname+'.tsv', 'w') as f_out:\n",
    "        for kimgs, fid, pkl_file in zip(kimgs_list, fid_list, pkl_file_list):\n",
    "            f_out.write(f'{kimgs}\\t{fid}\\t{pkl_file}\\n')\n",
    "\n",
    "for r, counts in fid_file_counter.items():\n",
    "    if counts['pkls'] > 0:\n",
    "        print(r, f\"{counts['fids']}/{counts['pkls']} ({int(counts['fids']/counts['pkls']*100)} %)\")\n",
    "    else:\n",
    "        print(r, f\"{counts['fids']}/{counts['pkls']}\")\n",
    "    "
   ]
  },
  {
   "cell_type": "code",
   "execution_count": 30,
   "metadata": {},
   "outputs": [
    {
     "name": "stdout",
     "output_type": "stream",
     "text": [
      "/home/martinmcgg/skygan-docker_1024_aug/src/stylegan3/training\n"
     ]
    }
   ],
   "source": [
    "!pwd"
   ]
  },
  {
   "cell_type": "code",
   "execution_count": null,
   "metadata": {},
   "outputs": [],
   "source": []
  }
 ],
 "metadata": {
  "kernelspec": {
   "display_name": "base",
   "language": "python",
   "name": "python3"
  },
  "language_info": {
   "codemirror_mode": {
    "name": "ipython",
    "version": 3
   },
   "file_extension": ".py",
   "mimetype": "text/x-python",
   "name": "python",
   "nbconvert_exporter": "python",
   "pygments_lexer": "ipython3",
   "version": "3.9.12"
  },
  "orig_nbformat": 4,
  "vscode": {
   "interpreter": {
    "hash": "58d170d1c05309e1637306089e08a96a127334e02d9f2090f93eda3d75217146"
   }
  }
 },
 "nbformat": 4,
 "nbformat_minor": 2
}
